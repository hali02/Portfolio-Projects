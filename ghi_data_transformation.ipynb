{
 "cells": [
  {
   "cell_type": "code",
   "execution_count": 56,
   "id": "4d41ca0c",
   "metadata": {},
   "outputs": [],
   "source": [
    "import pandas as pd\n",
    "import numpy as np"
   ]
  },
  {
   "cell_type": "code",
   "execution_count": 57,
   "id": "cabcc161",
   "metadata": {},
   "outputs": [],
   "source": [
    "ghi_ind = pd.read_excel('GHI_2023.xlsx', sheet_name='2023 GHI Indicator Values')"
   ]
  },
  {
   "cell_type": "code",
   "execution_count": 58,
   "id": "5f1fbeab",
   "metadata": {},
   "outputs": [],
   "source": [
    "ghi_melted = ghi_ind.melt(id_vars='Country', var_name = 'measure', value_name='percentage')"
   ]
  },
  {
   "cell_type": "code",
   "execution_count": 59,
   "id": "0f2a8301",
   "metadata": {},
   "outputs": [],
   "source": [
    "ghi_melted[['measures','Year']] = ghi_melted['measure'].str.extract('(\\D+)\\s(\\d{4})', expand=True)"
   ]
  },
  {
   "cell_type": "code",
   "execution_count": 60,
   "id": "500c2726",
   "metadata": {},
   "outputs": [],
   "source": [
    "ghi_melted = ghi_melted.drop(columns='measure')"
   ]
  },
  {
   "cell_type": "code",
   "execution_count": 61,
   "id": "99e02907",
   "metadata": {},
   "outputs": [],
   "source": [
    "ghi_melted = ghi_melted.rename(columns={'measures': 'measure'})"
   ]
  },
  {
   "cell_type": "code",
   "execution_count": 62,
   "id": "0ab41ee8",
   "metadata": {},
   "outputs": [
    {
     "data": {
      "text/html": [
       "<div>\n",
       "<style scoped>\n",
       "    .dataframe tbody tr th:only-of-type {\n",
       "        vertical-align: middle;\n",
       "    }\n",
       "\n",
       "    .dataframe tbody tr th {\n",
       "        vertical-align: top;\n",
       "    }\n",
       "\n",
       "    .dataframe thead th {\n",
       "        text-align: right;\n",
       "    }\n",
       "</style>\n",
       "<table border=\"1\" class=\"dataframe\">\n",
       "  <thead>\n",
       "    <tr style=\"text-align: right;\">\n",
       "      <th></th>\n",
       "      <th>Country</th>\n",
       "      <th>percentage</th>\n",
       "      <th>measure</th>\n",
       "      <th>Year</th>\n",
       "    </tr>\n",
       "  </thead>\n",
       "  <tbody>\n",
       "    <tr>\n",
       "      <th>0</th>\n",
       "      <td>Afghanistan</td>\n",
       "      <td>46.4</td>\n",
       "      <td>Proportion of undernourished in the population...</td>\n",
       "      <td>2002</td>\n",
       "    </tr>\n",
       "    <tr>\n",
       "      <th>1</th>\n",
       "      <td>Albania</td>\n",
       "      <td>4.9</td>\n",
       "      <td>Proportion of undernourished in the population...</td>\n",
       "      <td>2002</td>\n",
       "    </tr>\n",
       "    <tr>\n",
       "      <th>2</th>\n",
       "      <td>Algeria</td>\n",
       "      <td>8.1</td>\n",
       "      <td>Proportion of undernourished in the population...</td>\n",
       "      <td>2002</td>\n",
       "    </tr>\n",
       "    <tr>\n",
       "      <th>3</th>\n",
       "      <td>Angola</td>\n",
       "      <td>67.8</td>\n",
       "      <td>Proportion of undernourished in the population...</td>\n",
       "      <td>2002</td>\n",
       "    </tr>\n",
       "    <tr>\n",
       "      <th>4</th>\n",
       "      <td>Argentina</td>\n",
       "      <td>3.1</td>\n",
       "      <td>Proportion of undernourished in the population...</td>\n",
       "      <td>2002</td>\n",
       "    </tr>\n",
       "    <tr>\n",
       "      <th>...</th>\n",
       "      <td>...</td>\n",
       "      <td>...</td>\n",
       "      <td>...</td>\n",
       "      <td>...</td>\n",
       "    </tr>\n",
       "    <tr>\n",
       "      <th>2171</th>\n",
       "      <td>Venezuela</td>\n",
       "      <td>2.4</td>\n",
       "      <td>Under-five mortality rate (%)</td>\n",
       "      <td>2021</td>\n",
       "    </tr>\n",
       "    <tr>\n",
       "      <th>2172</th>\n",
       "      <td>Vietnam</td>\n",
       "      <td>2.1</td>\n",
       "      <td>Under-five mortality rate (%)</td>\n",
       "      <td>2021</td>\n",
       "    </tr>\n",
       "    <tr>\n",
       "      <th>2173</th>\n",
       "      <td>Yemen</td>\n",
       "      <td>6.2</td>\n",
       "      <td>Under-five mortality rate (%)</td>\n",
       "      <td>2021</td>\n",
       "    </tr>\n",
       "    <tr>\n",
       "      <th>2174</th>\n",
       "      <td>Zambia</td>\n",
       "      <td>5.8</td>\n",
       "      <td>Under-five mortality rate (%)</td>\n",
       "      <td>2021</td>\n",
       "    </tr>\n",
       "    <tr>\n",
       "      <th>2175</th>\n",
       "      <td>Zimbabwe</td>\n",
       "      <td>5.0</td>\n",
       "      <td>Under-five mortality rate (%)</td>\n",
       "      <td>2021</td>\n",
       "    </tr>\n",
       "  </tbody>\n",
       "</table>\n",
       "<p>2176 rows × 4 columns</p>\n",
       "</div>"
      ],
      "text/plain": [
       "          Country percentage  \\\n",
       "0     Afghanistan       46.4   \n",
       "1         Albania        4.9   \n",
       "2         Algeria        8.1   \n",
       "3          Angola       67.8   \n",
       "4       Argentina        3.1   \n",
       "...           ...        ...   \n",
       "2171    Venezuela        2.4   \n",
       "2172      Vietnam        2.1   \n",
       "2173        Yemen        6.2   \n",
       "2174       Zambia        5.8   \n",
       "2175     Zimbabwe        5.0   \n",
       "\n",
       "                                                measure  Year  \n",
       "0     Proportion of undernourished in the population...  2002  \n",
       "1     Proportion of undernourished in the population...  2002  \n",
       "2     Proportion of undernourished in the population...  2002  \n",
       "3     Proportion of undernourished in the population...  2002  \n",
       "4     Proportion of undernourished in the population...  2002  \n",
       "...                                                 ...   ...  \n",
       "2171                      Under-five mortality rate (%)  2021  \n",
       "2172                      Under-five mortality rate (%)  2021  \n",
       "2173                      Under-five mortality rate (%)  2021  \n",
       "2174                      Under-five mortality rate (%)  2021  \n",
       "2175                      Under-five mortality rate (%)  2021  \n",
       "\n",
       "[2176 rows x 4 columns]"
      ]
     },
     "execution_count": 62,
     "metadata": {},
     "output_type": "execute_result"
    }
   ],
   "source": [
    "ghi_melted"
   ]
  },
  {
   "cell_type": "code",
   "execution_count": 63,
   "id": "2f394b27",
   "metadata": {},
   "outputs": [],
   "source": [
    "ghi_melted.to_excel('ghi_ind_transformed.xlsx', sheet_name='GHI Indicators')"
   ]
  }
 ],
 "metadata": {
  "kernelspec": {
   "display_name": "Python 3 (ipykernel)",
   "language": "python",
   "name": "python3"
  },
  "language_info": {
   "codemirror_mode": {
    "name": "ipython",
    "version": 3
   },
   "file_extension": ".py",
   "mimetype": "text/x-python",
   "name": "python",
   "nbconvert_exporter": "python",
   "pygments_lexer": "ipython3",
   "version": "3.10.9"
  }
 },
 "nbformat": 4,
 "nbformat_minor": 5
}
